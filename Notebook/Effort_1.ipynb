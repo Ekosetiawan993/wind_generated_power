{
 "cells": [
  {
   "cell_type": "code",
   "execution_count": 1,
   "id": "comparable-pharmaceutical",
   "metadata": {},
   "outputs": [],
   "source": [
    "import pandas as pd\n",
    "import numpy as np\n",
    "import matplotlib.pyplot as plt\n",
    "import seaborn as sns\n",
    "pd.set_option('display.max_columns', 500)\n",
    "\n",
    "%matplotlib inline"
   ]
  },
  {
   "cell_type": "code",
   "execution_count": 5,
   "id": "major-astrology",
   "metadata": {},
   "outputs": [],
   "source": [
    "train_path = '../dataset/train.csv'\n",
    "test_path = '../dataset/test.csv'\n",
    "sample_path = '../dataset/sample_submission.csv'\n",
    "\n",
    "train = pd.read_csv(train_path)\n",
    "test = pd.read_csv(test_path)\n",
    "sample = pd.read_csv(sample_path)\n",
    "\n",
    "submit_col = test.loc[:, ['tracking_id', 'datetime']].copy()"
   ]
  },
  {
   "cell_type": "code",
   "execution_count": 7,
   "id": "military-scotland",
   "metadata": {},
   "outputs": [],
   "source": [
    "def make_csv(predict, name):\n",
    "    df = pd.DataFrame()\n",
    "    df['tracking_id'] = submit_col['tracking_id']\n",
    "    df['datetime'] = submit_col['datetime']\n",
    "    df['windmill_generated_power(kW/h)'] = predict\n",
    "    \n",
    "    df.to_csv(name, index=False)"
   ]
  },
  {
   "cell_type": "code",
   "execution_count": null,
   "id": "another-keyboard",
   "metadata": {},
   "outputs": [],
   "source": []
  },
  {
   "cell_type": "code",
   "execution_count": null,
   "id": "accredited-mining",
   "metadata": {},
   "outputs": [],
   "source": []
  }
 ],
 "metadata": {
  "kernelspec": {
   "display_name": "Python 3",
   "language": "python",
   "name": "python3"
  },
  "language_info": {
   "codemirror_mode": {
    "name": "ipython",
    "version": 3
   },
   "file_extension": ".py",
   "mimetype": "text/x-python",
   "name": "python",
   "nbconvert_exporter": "python",
   "pygments_lexer": "ipython3",
   "version": "3.8.3"
  }
 },
 "nbformat": 4,
 "nbformat_minor": 5
}
